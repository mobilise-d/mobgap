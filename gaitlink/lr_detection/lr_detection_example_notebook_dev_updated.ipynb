{
 "cells": [
  {
   "cell_type": "code",
   "execution_count": 1,
   "metadata": {},
   "outputs": [],
   "source": [
    "from gaitlink.lr_detection import UllrichLRDetection\n",
    "from gaitlink.lr_detection import McCamleyLRDetection\n",
    "from gaitlink.lr_detection import PretrainedModel\n",
    "\n",
    "from sklearn import neighbors\n",
    "\n",
    "from gaitlink.data import load_mobilised_matlab_format, get_all_lab_example_data_paths\n",
    "import numpy as np\n",
    "import matplotlib.pyplot as plt\n",
    "import pandas as pd\n",
    "\n",
    "from sklearn import svm\n",
    "from sklearn import neighbors\n",
    "from sklearn.ensemble import RandomForestClassifier\n",
    "\n",
    "from gaitlink.data import LabExampleDataset"
   ]
  },
  {
   "cell_type": "code",
   "execution_count": 2,
   "metadata": {},
   "outputs": [],
   "source": [
    "# ---------------------------------------------\n",
    "#           Load some example data\n",
    "# ---------------------------------------------\n",
    "\n",
    "dataset = LabExampleDataset(reference_system=\"INDIP\")\n",
    "datapoint = dataset.get_subset(cohort=\"HA\", participant_id=\"001\", test=\"Test11\", trial=\"Trial1\")\n",
    "\n",
    "sampling_rate_hz = datapoint.sampling_rate_hz\n",
    "sampling_rate_hz_ref = datapoint.reference_sampling_rate_hz_\n",
    "\n",
    "\n",
    "from gaitlink.lr_detection._utils import extract_ref_data\n",
    "\n",
    "data_list, ic_list, label_list = extract_ref_data(datapoint)\n"
   ]
  },
  {
   "cell_type": "markdown",
   "metadata": {},
   "source": [
    "## ML Test\n",
    "____\n",
    "Option 1 - using pretrained models"
   ]
  },
  {
   "cell_type": "code",
   "execution_count": 3,
   "metadata": {},
   "outputs": [
    {
     "data": {
      "text/plain": [
       "<PretrainedModel.svm_linear: 'svm_linear'>"
      ]
     },
     "execution_count": 3,
     "metadata": {},
     "output_type": "execute_result"
    }
   ],
   "source": [
    "my_algo_pretrained = UllrichLRDetection(model = PretrainedModel.svm_linear)\n",
    "my_algo_pretrained.model\n",
    "\n",
    "# Note that users cannot change pretrained model's params until an action method has been triggered."
   ]
  },
  {
   "cell_type": "markdown",
   "metadata": {},
   "source": [
    "Option 2 - using a custom sklearn models"
   ]
  },
  {
   "cell_type": "code",
   "execution_count": 5,
   "metadata": {},
   "outputs": [
    {
     "data": {
      "text/html": [
       "<style>#sk-container-id-1 {color: black;}#sk-container-id-1 pre{padding: 0;}#sk-container-id-1 div.sk-toggleable {background-color: white;}#sk-container-id-1 label.sk-toggleable__label {cursor: pointer;display: block;width: 100%;margin-bottom: 0;padding: 0.3em;box-sizing: border-box;text-align: center;}#sk-container-id-1 label.sk-toggleable__label-arrow:before {content: \"▸\";float: left;margin-right: 0.25em;color: #696969;}#sk-container-id-1 label.sk-toggleable__label-arrow:hover:before {color: black;}#sk-container-id-1 div.sk-estimator:hover label.sk-toggleable__label-arrow:before {color: black;}#sk-container-id-1 div.sk-toggleable__content {max-height: 0;max-width: 0;overflow: hidden;text-align: left;background-color: #f0f8ff;}#sk-container-id-1 div.sk-toggleable__content pre {margin: 0.2em;color: black;border-radius: 0.25em;background-color: #f0f8ff;}#sk-container-id-1 input.sk-toggleable__control:checked~div.sk-toggleable__content {max-height: 200px;max-width: 100%;overflow: auto;}#sk-container-id-1 input.sk-toggleable__control:checked~label.sk-toggleable__label-arrow:before {content: \"▾\";}#sk-container-id-1 div.sk-estimator input.sk-toggleable__control:checked~label.sk-toggleable__label {background-color: #d4ebff;}#sk-container-id-1 div.sk-label input.sk-toggleable__control:checked~label.sk-toggleable__label {background-color: #d4ebff;}#sk-container-id-1 input.sk-hidden--visually {border: 0;clip: rect(1px 1px 1px 1px);clip: rect(1px, 1px, 1px, 1px);height: 1px;margin: -1px;overflow: hidden;padding: 0;position: absolute;width: 1px;}#sk-container-id-1 div.sk-estimator {font-family: monospace;background-color: #f0f8ff;border: 1px dotted black;border-radius: 0.25em;box-sizing: border-box;margin-bottom: 0.5em;}#sk-container-id-1 div.sk-estimator:hover {background-color: #d4ebff;}#sk-container-id-1 div.sk-parallel-item::after {content: \"\";width: 100%;border-bottom: 1px solid gray;flex-grow: 1;}#sk-container-id-1 div.sk-label:hover label.sk-toggleable__label {background-color: #d4ebff;}#sk-container-id-1 div.sk-serial::before {content: \"\";position: absolute;border-left: 1px solid gray;box-sizing: border-box;top: 0;bottom: 0;left: 50%;z-index: 0;}#sk-container-id-1 div.sk-serial {display: flex;flex-direction: column;align-items: center;background-color: white;padding-right: 0.2em;padding-left: 0.2em;position: relative;}#sk-container-id-1 div.sk-item {position: relative;z-index: 1;}#sk-container-id-1 div.sk-parallel {display: flex;align-items: stretch;justify-content: center;background-color: white;position: relative;}#sk-container-id-1 div.sk-item::before, #sk-container-id-1 div.sk-parallel-item::before {content: \"\";position: absolute;border-left: 1px solid gray;box-sizing: border-box;top: 0;bottom: 0;left: 50%;z-index: -1;}#sk-container-id-1 div.sk-parallel-item {display: flex;flex-direction: column;z-index: 1;position: relative;background-color: white;}#sk-container-id-1 div.sk-parallel-item:first-child::after {align-self: flex-end;width: 50%;}#sk-container-id-1 div.sk-parallel-item:last-child::after {align-self: flex-start;width: 50%;}#sk-container-id-1 div.sk-parallel-item:only-child::after {width: 0;}#sk-container-id-1 div.sk-dashed-wrapped {border: 1px dashed gray;margin: 0 0.4em 0.5em 0.4em;box-sizing: border-box;padding-bottom: 0.4em;background-color: white;}#sk-container-id-1 div.sk-label label {font-family: monospace;font-weight: bold;display: inline-block;line-height: 1.2em;}#sk-container-id-1 div.sk-label-container {text-align: center;}#sk-container-id-1 div.sk-container {/* jupyter's `normalize.less` sets `[hidden] { display: none; }` but bootstrap.min.css set `[hidden] { display: none !important; }` so we also need the `!important` here to be able to override the default hidden behavior on the sphinx rendered scikit-learn.org. See: https://github.com/scikit-learn/scikit-learn/issues/21755 */display: inline-block !important;position: relative;}#sk-container-id-1 div.sk-text-repr-fallback {display: none;}</style><div id=\"sk-container-id-1\" class=\"sk-top-container\"><div class=\"sk-text-repr-fallback\"><pre>SVC()</pre><b>In a Jupyter environment, please rerun this cell to show the HTML representation or trust the notebook. <br />On GitHub, the HTML representation is unable to render, please try loading this page with nbviewer.org.</b></div><div class=\"sk-container\" hidden><div class=\"sk-item\"><div class=\"sk-estimator sk-toggleable\"><input class=\"sk-toggleable__control sk-hidden--visually\" id=\"sk-estimator-id-1\" type=\"checkbox\" checked><label for=\"sk-estimator-id-1\" class=\"sk-toggleable__label sk-toggleable__label-arrow\">SVC</label><div class=\"sk-toggleable__content\"><pre>SVC()</pre></div></div></div></div></div>"
      ],
      "text/plain": [
       "SVC()"
      ]
     },
     "execution_count": 5,
     "metadata": {},
     "output_type": "execute_result"
    }
   ],
   "source": [
    "my_algo_custom = UllrichLRDetection(model = svm.SVC())\n",
    "my_algo_custom.model"
   ]
  },
  {
   "cell_type": "markdown",
   "metadata": {},
   "source": [
    "### Setting model parameters\n",
    "____\n",
    "\n",
    "Custom model parameters can be changed using `set_params()`:"
   ]
  },
  {
   "cell_type": "code",
   "execution_count": 6,
   "metadata": {},
   "outputs": [
    {
     "data": {
      "text/html": [
       "<style>#sk-container-id-2 {color: black;}#sk-container-id-2 pre{padding: 0;}#sk-container-id-2 div.sk-toggleable {background-color: white;}#sk-container-id-2 label.sk-toggleable__label {cursor: pointer;display: block;width: 100%;margin-bottom: 0;padding: 0.3em;box-sizing: border-box;text-align: center;}#sk-container-id-2 label.sk-toggleable__label-arrow:before {content: \"▸\";float: left;margin-right: 0.25em;color: #696969;}#sk-container-id-2 label.sk-toggleable__label-arrow:hover:before {color: black;}#sk-container-id-2 div.sk-estimator:hover label.sk-toggleable__label-arrow:before {color: black;}#sk-container-id-2 div.sk-toggleable__content {max-height: 0;max-width: 0;overflow: hidden;text-align: left;background-color: #f0f8ff;}#sk-container-id-2 div.sk-toggleable__content pre {margin: 0.2em;color: black;border-radius: 0.25em;background-color: #f0f8ff;}#sk-container-id-2 input.sk-toggleable__control:checked~div.sk-toggleable__content {max-height: 200px;max-width: 100%;overflow: auto;}#sk-container-id-2 input.sk-toggleable__control:checked~label.sk-toggleable__label-arrow:before {content: \"▾\";}#sk-container-id-2 div.sk-estimator input.sk-toggleable__control:checked~label.sk-toggleable__label {background-color: #d4ebff;}#sk-container-id-2 div.sk-label input.sk-toggleable__control:checked~label.sk-toggleable__label {background-color: #d4ebff;}#sk-container-id-2 input.sk-hidden--visually {border: 0;clip: rect(1px 1px 1px 1px);clip: rect(1px, 1px, 1px, 1px);height: 1px;margin: -1px;overflow: hidden;padding: 0;position: absolute;width: 1px;}#sk-container-id-2 div.sk-estimator {font-family: monospace;background-color: #f0f8ff;border: 1px dotted black;border-radius: 0.25em;box-sizing: border-box;margin-bottom: 0.5em;}#sk-container-id-2 div.sk-estimator:hover {background-color: #d4ebff;}#sk-container-id-2 div.sk-parallel-item::after {content: \"\";width: 100%;border-bottom: 1px solid gray;flex-grow: 1;}#sk-container-id-2 div.sk-label:hover label.sk-toggleable__label {background-color: #d4ebff;}#sk-container-id-2 div.sk-serial::before {content: \"\";position: absolute;border-left: 1px solid gray;box-sizing: border-box;top: 0;bottom: 0;left: 50%;z-index: 0;}#sk-container-id-2 div.sk-serial {display: flex;flex-direction: column;align-items: center;background-color: white;padding-right: 0.2em;padding-left: 0.2em;position: relative;}#sk-container-id-2 div.sk-item {position: relative;z-index: 1;}#sk-container-id-2 div.sk-parallel {display: flex;align-items: stretch;justify-content: center;background-color: white;position: relative;}#sk-container-id-2 div.sk-item::before, #sk-container-id-2 div.sk-parallel-item::before {content: \"\";position: absolute;border-left: 1px solid gray;box-sizing: border-box;top: 0;bottom: 0;left: 50%;z-index: -1;}#sk-container-id-2 div.sk-parallel-item {display: flex;flex-direction: column;z-index: 1;position: relative;background-color: white;}#sk-container-id-2 div.sk-parallel-item:first-child::after {align-self: flex-end;width: 50%;}#sk-container-id-2 div.sk-parallel-item:last-child::after {align-self: flex-start;width: 50%;}#sk-container-id-2 div.sk-parallel-item:only-child::after {width: 0;}#sk-container-id-2 div.sk-dashed-wrapped {border: 1px dashed gray;margin: 0 0.4em 0.5em 0.4em;box-sizing: border-box;padding-bottom: 0.4em;background-color: white;}#sk-container-id-2 div.sk-label label {font-family: monospace;font-weight: bold;display: inline-block;line-height: 1.2em;}#sk-container-id-2 div.sk-label-container {text-align: center;}#sk-container-id-2 div.sk-container {/* jupyter's `normalize.less` sets `[hidden] { display: none; }` but bootstrap.min.css set `[hidden] { display: none !important; }` so we also need the `!important` here to be able to override the default hidden behavior on the sphinx rendered scikit-learn.org. See: https://github.com/scikit-learn/scikit-learn/issues/21755 */display: inline-block !important;position: relative;}#sk-container-id-2 div.sk-text-repr-fallback {display: none;}</style><div id=\"sk-container-id-2\" class=\"sk-top-container\"><div class=\"sk-text-repr-fallback\"><pre>SVC(C=25, gamma=0.002)</pre><b>In a Jupyter environment, please rerun this cell to show the HTML representation or trust the notebook. <br />On GitHub, the HTML representation is unable to render, please try loading this page with nbviewer.org.</b></div><div class=\"sk-container\" hidden><div class=\"sk-item\"><div class=\"sk-estimator sk-toggleable\"><input class=\"sk-toggleable__control sk-hidden--visually\" id=\"sk-estimator-id-2\" type=\"checkbox\" checked><label for=\"sk-estimator-id-2\" class=\"sk-toggleable__label sk-toggleable__label-arrow\">SVC</label><div class=\"sk-toggleable__content\"><pre>SVC(C=25, gamma=0.002)</pre></div></div></div></div></div>"
      ],
      "text/plain": [
       "SVC(C=25, gamma=0.002)"
      ]
     },
     "execution_count": 6,
     "metadata": {},
     "output_type": "execute_result"
    }
   ],
   "source": [
    "my_algo_custom.set_params(model__C=25, model__gamma=0.002)\n",
    "my_algo_custom.model"
   ]
  },
  {
   "cell_type": "markdown",
   "metadata": {},
   "source": [
    "Alternatively, setting params can also be done using a dictionary:"
   ]
  },
  {
   "cell_type": "code",
   "execution_count": 6,
   "metadata": {},
   "outputs": [
    {
     "data": {
      "text/html": [
       "<style>#sk-container-id-2 {color: black;}#sk-container-id-2 pre{padding: 0;}#sk-container-id-2 div.sk-toggleable {background-color: white;}#sk-container-id-2 label.sk-toggleable__label {cursor: pointer;display: block;width: 100%;margin-bottom: 0;padding: 0.3em;box-sizing: border-box;text-align: center;}#sk-container-id-2 label.sk-toggleable__label-arrow:before {content: \"▸\";float: left;margin-right: 0.25em;color: #696969;}#sk-container-id-2 label.sk-toggleable__label-arrow:hover:before {color: black;}#sk-container-id-2 div.sk-estimator:hover label.sk-toggleable__label-arrow:before {color: black;}#sk-container-id-2 div.sk-toggleable__content {max-height: 0;max-width: 0;overflow: hidden;text-align: left;background-color: #f0f8ff;}#sk-container-id-2 div.sk-toggleable__content pre {margin: 0.2em;color: black;border-radius: 0.25em;background-color: #f0f8ff;}#sk-container-id-2 input.sk-toggleable__control:checked~div.sk-toggleable__content {max-height: 200px;max-width: 100%;overflow: auto;}#sk-container-id-2 input.sk-toggleable__control:checked~label.sk-toggleable__label-arrow:before {content: \"▾\";}#sk-container-id-2 div.sk-estimator input.sk-toggleable__control:checked~label.sk-toggleable__label {background-color: #d4ebff;}#sk-container-id-2 div.sk-label input.sk-toggleable__control:checked~label.sk-toggleable__label {background-color: #d4ebff;}#sk-container-id-2 input.sk-hidden--visually {border: 0;clip: rect(1px 1px 1px 1px);clip: rect(1px, 1px, 1px, 1px);height: 1px;margin: -1px;overflow: hidden;padding: 0;position: absolute;width: 1px;}#sk-container-id-2 div.sk-estimator {font-family: monospace;background-color: #f0f8ff;border: 1px dotted black;border-radius: 0.25em;box-sizing: border-box;margin-bottom: 0.5em;}#sk-container-id-2 div.sk-estimator:hover {background-color: #d4ebff;}#sk-container-id-2 div.sk-parallel-item::after {content: \"\";width: 100%;border-bottom: 1px solid gray;flex-grow: 1;}#sk-container-id-2 div.sk-label:hover label.sk-toggleable__label {background-color: #d4ebff;}#sk-container-id-2 div.sk-serial::before {content: \"\";position: absolute;border-left: 1px solid gray;box-sizing: border-box;top: 0;bottom: 0;left: 50%;z-index: 0;}#sk-container-id-2 div.sk-serial {display: flex;flex-direction: column;align-items: center;background-color: white;padding-right: 0.2em;padding-left: 0.2em;position: relative;}#sk-container-id-2 div.sk-item {position: relative;z-index: 1;}#sk-container-id-2 div.sk-parallel {display: flex;align-items: stretch;justify-content: center;background-color: white;position: relative;}#sk-container-id-2 div.sk-item::before, #sk-container-id-2 div.sk-parallel-item::before {content: \"\";position: absolute;border-left: 1px solid gray;box-sizing: border-box;top: 0;bottom: 0;left: 50%;z-index: -1;}#sk-container-id-2 div.sk-parallel-item {display: flex;flex-direction: column;z-index: 1;position: relative;background-color: white;}#sk-container-id-2 div.sk-parallel-item:first-child::after {align-self: flex-end;width: 50%;}#sk-container-id-2 div.sk-parallel-item:last-child::after {align-self: flex-start;width: 50%;}#sk-container-id-2 div.sk-parallel-item:only-child::after {width: 0;}#sk-container-id-2 div.sk-dashed-wrapped {border: 1px dashed gray;margin: 0 0.4em 0.5em 0.4em;box-sizing: border-box;padding-bottom: 0.4em;background-color: white;}#sk-container-id-2 div.sk-label label {font-family: monospace;font-weight: bold;display: inline-block;line-height: 1.2em;}#sk-container-id-2 div.sk-label-container {text-align: center;}#sk-container-id-2 div.sk-container {/* jupyter's `normalize.less` sets `[hidden] { display: none; }` but bootstrap.min.css set `[hidden] { display: none !important; }` so we also need the `!important` here to be able to override the default hidden behavior on the sphinx rendered scikit-learn.org. See: https://github.com/scikit-learn/scikit-learn/issues/21755 */display: inline-block !important;position: relative;}#sk-container-id-2 div.sk-text-repr-fallback {display: none;}</style><div id=\"sk-container-id-2\" class=\"sk-top-container\"><div class=\"sk-text-repr-fallback\"><pre>SVC(C=30, gamma=0.003, kernel=&#x27;linear&#x27;)</pre><b>In a Jupyter environment, please rerun this cell to show the HTML representation or trust the notebook. <br />On GitHub, the HTML representation is unable to render, please try loading this page with nbviewer.org.</b></div><div class=\"sk-container\" hidden><div class=\"sk-item\"><div class=\"sk-estimator sk-toggleable\"><input class=\"sk-toggleable__control sk-hidden--visually\" id=\"sk-estimator-id-2\" type=\"checkbox\" checked><label for=\"sk-estimator-id-2\" class=\"sk-toggleable__label sk-toggleable__label-arrow\">SVC</label><div class=\"sk-toggleable__content\"><pre>SVC(C=30, gamma=0.003, kernel=&#x27;linear&#x27;)</pre></div></div></div></div></div>"
      ],
      "text/plain": [
       "SVC(C=30, gamma=0.003, kernel='linear')"
      ]
     },
     "execution_count": 6,
     "metadata": {},
     "output_type": "execute_result"
    }
   ],
   "source": [
    "my_paras = {'model__C': 30, 'model__gamma': 0.003, 'model__kernel': 'linear'}\n",
    "my_algo_custom.set_params(**my_paras)\n",
    "my_algo_custom.model"
   ]
  },
  {
   "cell_type": "markdown",
   "metadata": {},
   "source": [
    "### Retrieving model parameters\n",
    "____\n",
    "Custom model parameters can be retrieved using `get_params()`"
   ]
  },
  {
   "cell_type": "code",
   "execution_count": 44,
   "metadata": {},
   "outputs": [
    {
     "data": {
      "text/plain": [
       "{'C': 30,\n",
       " 'break_ties': False,\n",
       " 'cache_size': 200,\n",
       " 'class_weight': None,\n",
       " 'coef0': 0.0,\n",
       " 'decision_function_shape': 'ovr',\n",
       " 'degree': 3,\n",
       " 'gamma': 0.003,\n",
       " 'kernel': 'linear',\n",
       " 'max_iter': -1,\n",
       " 'probability': False,\n",
       " 'random_state': None,\n",
       " 'shrinking': True,\n",
       " 'tol': 0.001,\n",
       " 'verbose': False}"
      ]
     },
     "execution_count": 44,
     "metadata": {},
     "output_type": "execute_result"
    }
   ],
   "source": [
    "my_algo_custom.model.get_params()"
   ]
  },
  {
   "cell_type": "markdown",
   "metadata": {},
   "source": [
    "Or"
   ]
  },
  {
   "cell_type": "code",
   "execution_count": 45,
   "metadata": {},
   "outputs": [
    {
     "data": {
      "text/plain": [
       "{'model__C': 30,\n",
       " 'model__break_ties': False,\n",
       " 'model__cache_size': 200,\n",
       " 'model__class_weight': None,\n",
       " 'model__coef0': 0.0,\n",
       " 'model__decision_function_shape': 'ovr',\n",
       " 'model__degree': 3,\n",
       " 'model__gamma': 0.003,\n",
       " 'model__kernel': 'linear',\n",
       " 'model__max_iter': -1,\n",
       " 'model__probability': False,\n",
       " 'model__random_state': None,\n",
       " 'model__shrinking': True,\n",
       " 'model__tol': 0.001,\n",
       " 'model__verbose': False,\n",
       " 'model': SVC(C=30, gamma=0.003, kernel='linear')}"
      ]
     },
     "execution_count": 45,
     "metadata": {},
     "output_type": "execute_result"
    }
   ],
   "source": [
    "my_algo_custom.get_params()"
   ]
  },
  {
   "cell_type": "markdown",
   "metadata": {},
   "source": [
    "## Using the model for L/R Detection\n",
    "____\n",
    "### Option 1 - using a pretrained model.\n",
    "Please note that this will throw a warning, due to sklearn version inconsistencies. Suggest resaving the model with the current sklearn version used in this package.\n"
   ]
  },
  {
   "cell_type": "code",
   "execution_count": 8,
   "metadata": {},
   "outputs": [
    {
     "name": "stdout",
     "output_type": "stream",
     "text": [
      "Model_checking...\n"
     ]
    },
    {
     "data": {
      "text/plain": [
       "UllrichLRDetection(model=SVC(C=100, kernel='linear'))"
      ]
     },
     "execution_count": 8,
     "metadata": {},
     "output_type": "execute_result"
    }
   ],
   "source": [
    "my_algo_pretrained.detect(data = data_list,\n",
    "                          ic_list = ic_list,\n",
    "                          sampling_rate_hz = sampling_rate_hz)"
   ]
  },
  {
   "cell_type": "markdown",
   "metadata": {},
   "source": [
    "### Option 2 - Using a custom model\n",
    "\n",
    "The following is expected to throw an error. This is because the model was not fit yet."
   ]
  },
  {
   "cell_type": "code",
   "execution_count": 9,
   "metadata": {},
   "outputs": [
    {
     "name": "stdout",
     "output_type": "stream",
     "text": [
      "Model_checking...\n"
     ]
    },
    {
     "ename": "RuntimeError",
     "evalue": "Model is not fitted. Call self_optimize before calling detect.",
     "output_type": "error",
     "traceback": [
      "\u001b[0;31m---------------------------------------------------------------------------\u001b[0m",
      "\u001b[0;31mNotFittedError\u001b[0m                            Traceback (most recent call last)",
      "File \u001b[0;32m~/Documents/PhD_Repos/Mobilize_D/gaitlink/gaitlink/lr_detection/_lr_detect_ML.py:60\u001b[0m, in \u001b[0;36mUllrichLRDetection.detect\u001b[0;34m(self, data, ic_list, sampling_rate_hz)\u001b[0m\n\u001b[1;32m     59\u001b[0m \u001b[38;5;28;01mtry\u001b[39;00m:\n\u001b[0;32m---> 60\u001b[0m     \u001b[43mcheck_is_fitted\u001b[49m\u001b[43m(\u001b[49m\u001b[43mmodel\u001b[49m\u001b[43m)\u001b[49m\n\u001b[1;32m     61\u001b[0m \u001b[38;5;28;01mexcept\u001b[39;00m NotFittedError:\n",
      "File \u001b[0;32m~/Documents/PhD_Repos/Mobilize_D/gaitlink/.venv/lib/python3.11/site-packages/sklearn/utils/validation.py:1461\u001b[0m, in \u001b[0;36mcheck_is_fitted\u001b[0;34m(estimator, attributes, msg, all_or_any)\u001b[0m\n\u001b[1;32m   1460\u001b[0m \u001b[38;5;28;01mif\u001b[39;00m \u001b[38;5;129;01mnot\u001b[39;00m _is_fitted(estimator, attributes, all_or_any):\n\u001b[0;32m-> 1461\u001b[0m     \u001b[38;5;28;01mraise\u001b[39;00m NotFittedError(msg \u001b[38;5;241m%\u001b[39m {\u001b[38;5;124m\"\u001b[39m\u001b[38;5;124mname\u001b[39m\u001b[38;5;124m\"\u001b[39m: \u001b[38;5;28mtype\u001b[39m(estimator)\u001b[38;5;241m.\u001b[39m\u001b[38;5;18m__name__\u001b[39m})\n",
      "\u001b[0;31mNotFittedError\u001b[0m: This SVC instance is not fitted yet. Call 'fit' with appropriate arguments before using this estimator.",
      "\nDuring handling of the above exception, another exception occurred:\n",
      "\u001b[0;31mRuntimeError\u001b[0m                              Traceback (most recent call last)",
      "Cell \u001b[0;32mIn[9], line 1\u001b[0m\n\u001b[0;32m----> 1\u001b[0m \u001b[43mmy_algo_custom\u001b[49m\u001b[38;5;241;43m.\u001b[39;49m\u001b[43mdetect\u001b[49m\u001b[43m(\u001b[49m\u001b[43mdata\u001b[49m\u001b[43m \u001b[49m\u001b[38;5;241;43m=\u001b[39;49m\u001b[43m \u001b[49m\u001b[43mdata_list\u001b[49m\u001b[43m,\u001b[49m\n\u001b[1;32m      2\u001b[0m \u001b[43m                          \u001b[49m\u001b[43mic_list\u001b[49m\u001b[43m \u001b[49m\u001b[38;5;241;43m=\u001b[39;49m\u001b[43m \u001b[49m\u001b[43mic_list\u001b[49m\u001b[43m,\u001b[49m\n\u001b[1;32m      3\u001b[0m \u001b[43m                          \u001b[49m\u001b[43msampling_rate_hz\u001b[49m\u001b[43m \u001b[49m\u001b[38;5;241;43m=\u001b[39;49m\u001b[43m \u001b[49m\u001b[43msampling_rate_hz\u001b[49m\u001b[43m)\u001b[49m\n",
      "File \u001b[0;32m~/Documents/PhD_Repos/Mobilize_D/gaitlink/gaitlink/lr_detection/_lr_detect_ML.py:62\u001b[0m, in \u001b[0;36mUllrichLRDetection.detect\u001b[0;34m(self, data, ic_list, sampling_rate_hz)\u001b[0m\n\u001b[1;32m     60\u001b[0m     check_is_fitted(model)\n\u001b[1;32m     61\u001b[0m \u001b[38;5;28;01mexcept\u001b[39;00m NotFittedError:\n\u001b[0;32m---> 62\u001b[0m     \u001b[38;5;28;01mraise\u001b[39;00m \u001b[38;5;167;01mRuntimeError\u001b[39;00m(\u001b[38;5;124m\"\u001b[39m\u001b[38;5;124mModel is not fitted. Call self_optimize before calling detect.\u001b[39m\u001b[38;5;124m\"\u001b[39m)\n\u001b[1;32m     64\u001b[0m \u001b[38;5;28mself\u001b[39m\u001b[38;5;241m.\u001b[39mprocessed_data \u001b[38;5;241m=\u001b[39m []\n\u001b[1;32m     65\u001b[0m \u001b[38;5;28mself\u001b[39m\u001b[38;5;241m.\u001b[39mic_lr \u001b[38;5;241m=\u001b[39m []\n",
      "\u001b[0;31mRuntimeError\u001b[0m: Model is not fitted. Call self_optimize before calling detect."
     ]
    }
   ],
   "source": [
    "my_algo_custom.detect(data = data_list,\n",
    "                          ic_list = ic_list,\n",
    "                          sampling_rate_hz = sampling_rate_hz)"
   ]
  },
  {
   "cell_type": "markdown",
   "metadata": {},
   "source": [
    "Fitting the custom model - This can be doe using the `self_optimize()` method."
   ]
  },
  {
   "cell_type": "code",
   "execution_count": 10,
   "metadata": {},
   "outputs": [
    {
     "data": {
      "text/plain": [
       "UllrichLRDetection(model=SVC(C=30, gamma=0.003, kernel='linear'))"
      ]
     },
     "execution_count": 10,
     "metadata": {},
     "output_type": "execute_result"
    }
   ],
   "source": [
    "my_algo_custom.self_optimize(data = data_list,\n",
    "                      ic_list = ic_list,\n",
    "                      label_list = label_list,\n",
    "                      sampling_rate_hz = sampling_rate_hz)"
   ]
  },
  {
   "cell_type": "markdown",
   "metadata": {},
   "source": [
    "Finally, return the assigned labels."
   ]
  },
  {
   "cell_type": "code",
   "execution_count": 31,
   "metadata": {},
   "outputs": [
    {
     "name": "stdout",
     "output_type": "stream",
     "text": [
      "Model_checking...\n"
     ]
    },
    {
     "data": {
      "text/html": [
       "<div>\n",
       "<style scoped>\n",
       "    .dataframe tbody tr th:only-of-type {\n",
       "        vertical-align: middle;\n",
       "    }\n",
       "\n",
       "    .dataframe tbody tr th {\n",
       "        vertical-align: top;\n",
       "    }\n",
       "\n",
       "    .dataframe thead th {\n",
       "        text-align: right;\n",
       "    }\n",
       "</style>\n",
       "<table border=\"1\" class=\"dataframe\">\n",
       "  <thead>\n",
       "    <tr style=\"text-align: right;\">\n",
       "      <th></th>\n",
       "      <th>predicted_lr_label</th>\n",
       "    </tr>\n",
       "  </thead>\n",
       "  <tbody>\n",
       "    <tr>\n",
       "      <th>0</th>\n",
       "      <td>Left</td>\n",
       "    </tr>\n",
       "    <tr>\n",
       "      <th>1</th>\n",
       "      <td>Right</td>\n",
       "    </tr>\n",
       "    <tr>\n",
       "      <th>2</th>\n",
       "      <td>Left</td>\n",
       "    </tr>\n",
       "    <tr>\n",
       "      <th>3</th>\n",
       "      <td>Right</td>\n",
       "    </tr>\n",
       "    <tr>\n",
       "      <th>4</th>\n",
       "      <td>Left</td>\n",
       "    </tr>\n",
       "    <tr>\n",
       "      <th>5</th>\n",
       "      <td>Right</td>\n",
       "    </tr>\n",
       "    <tr>\n",
       "      <th>6</th>\n",
       "      <td>Left</td>\n",
       "    </tr>\n",
       "  </tbody>\n",
       "</table>\n",
       "</div>"
      ],
      "text/plain": [
       "  predicted_lr_label\n",
       "0               Left\n",
       "1              Right\n",
       "2               Left\n",
       "3              Right\n",
       "4               Left\n",
       "5              Right\n",
       "6               Left"
      ]
     },
     "execution_count": 31,
     "metadata": {},
     "output_type": "execute_result"
    }
   ],
   "source": [
    "my_algo_custom.detect(data = data_list, ic_list = ic_list, sampling_rate_hz = sampling_rate_hz)\n",
    "my_algo_custom.ic_lr[0]"
   ]
  },
  {
   "cell_type": "markdown",
   "metadata": {},
   "source": [
    "Check against ground truth."
   ]
  },
  {
   "cell_type": "code",
   "execution_count": 133,
   "metadata": {},
   "outputs": [
    {
     "data": {
      "text/html": [
       "<div>\n",
       "<style scoped>\n",
       "    .dataframe tbody tr th:only-of-type {\n",
       "        vertical-align: middle;\n",
       "    }\n",
       "\n",
       "    .dataframe tbody tr th {\n",
       "        vertical-align: top;\n",
       "    }\n",
       "\n",
       "    .dataframe thead th {\n",
       "        text-align: right;\n",
       "    }\n",
       "</style>\n",
       "<table border=\"1\" class=\"dataframe\">\n",
       "  <thead>\n",
       "    <tr style=\"text-align: right;\">\n",
       "      <th></th>\n",
       "      <th>lr_label</th>\n",
       "    </tr>\n",
       "  </thead>\n",
       "  <tbody>\n",
       "    <tr>\n",
       "      <th>0</th>\n",
       "      <td>Left</td>\n",
       "    </tr>\n",
       "    <tr>\n",
       "      <th>1</th>\n",
       "      <td>Right</td>\n",
       "    </tr>\n",
       "    <tr>\n",
       "      <th>2</th>\n",
       "      <td>Left</td>\n",
       "    </tr>\n",
       "    <tr>\n",
       "      <th>3</th>\n",
       "      <td>Right</td>\n",
       "    </tr>\n",
       "    <tr>\n",
       "      <th>4</th>\n",
       "      <td>Left</td>\n",
       "    </tr>\n",
       "    <tr>\n",
       "      <th>5</th>\n",
       "      <td>Right</td>\n",
       "    </tr>\n",
       "    <tr>\n",
       "      <th>6</th>\n",
       "      <td>Left</td>\n",
       "    </tr>\n",
       "  </tbody>\n",
       "</table>\n",
       "</div>"
      ],
      "text/plain": [
       "  lr_label\n",
       "0     Left\n",
       "1    Right\n",
       "2     Left\n",
       "3    Right\n",
       "4     Left\n",
       "5    Right\n",
       "6     Left"
      ]
     },
     "execution_count": 133,
     "metadata": {},
     "output_type": "execute_result"
    }
   ],
   "source": [
    "label_list[0]\n",
    "\n",
    "# ok, so the custom model seems to be doing an okay job here."
   ]
  },
  {
   "cell_type": "markdown",
   "metadata": {},
   "source": [
    "Similarly, the predictions using the pretrained model are the following:"
   ]
  },
  {
   "cell_type": "code",
   "execution_count": 52,
   "metadata": {},
   "outputs": [
    {
     "name": "stdout",
     "output_type": "stream",
     "text": [
      "Model_checking...\n"
     ]
    },
    {
     "data": {
      "text/html": [
       "<div>\n",
       "<style scoped>\n",
       "    .dataframe tbody tr th:only-of-type {\n",
       "        vertical-align: middle;\n",
       "    }\n",
       "\n",
       "    .dataframe tbody tr th {\n",
       "        vertical-align: top;\n",
       "    }\n",
       "\n",
       "    .dataframe thead th {\n",
       "        text-align: right;\n",
       "    }\n",
       "</style>\n",
       "<table border=\"1\" class=\"dataframe\">\n",
       "  <thead>\n",
       "    <tr style=\"text-align: right;\">\n",
       "      <th></th>\n",
       "      <th>predicted_lr_label</th>\n",
       "    </tr>\n",
       "  </thead>\n",
       "  <tbody>\n",
       "    <tr>\n",
       "      <th>0</th>\n",
       "      <td>Left</td>\n",
       "    </tr>\n",
       "    <tr>\n",
       "      <th>1</th>\n",
       "      <td>Left</td>\n",
       "    </tr>\n",
       "    <tr>\n",
       "      <th>2</th>\n",
       "      <td>Left</td>\n",
       "    </tr>\n",
       "    <tr>\n",
       "      <th>3</th>\n",
       "      <td>Right</td>\n",
       "    </tr>\n",
       "    <tr>\n",
       "      <th>4</th>\n",
       "      <td>Left</td>\n",
       "    </tr>\n",
       "    <tr>\n",
       "      <th>5</th>\n",
       "      <td>Right</td>\n",
       "    </tr>\n",
       "    <tr>\n",
       "      <th>6</th>\n",
       "      <td>Left</td>\n",
       "    </tr>\n",
       "  </tbody>\n",
       "</table>\n",
       "</div>"
      ],
      "text/plain": [
       "  predicted_lr_label\n",
       "0               Left\n",
       "1               Left\n",
       "2               Left\n",
       "3              Right\n",
       "4               Left\n",
       "5              Right\n",
       "6               Left"
      ]
     },
     "execution_count": 52,
     "metadata": {},
     "output_type": "execute_result"
    }
   ],
   "source": [
    "my_algo_pretrained.detect(data = data_list, ic_list = ic_list, sampling_rate_hz = sampling_rate_hz)\n",
    "my_algo_pretrained.ic_lr[0]\n",
    "\n",
    "# you can see that this misclassifies the second IC in this case, not ideal."
   ]
  },
  {
   "cell_type": "markdown",
   "metadata": {},
   "source": [
    "### Optimization using Grid Search\n",
    "_____\n",
    "We can do optimization using `tpcp`: https://tpcp.readthedocs.io/en/latest/auto_examples/parameter_optimization/_03_gridsearch_cv.html\n",
    "\n",
    "For this, we need:\n",
    "1) a dataset\n",
    "2) a pipeline\n",
    "3) a scoring method for a parameter search. \n",
    "\n",
    "We already have a dataset, this was loaded at the beginning of this tutorial. Let's explore it below:"
   ]
  },
  {
   "cell_type": "code",
   "execution_count": 7,
   "metadata": {},
   "outputs": [
    {
     "data": {
      "text/html": [
       "<h4 style=\"margin-bottom: 0.1em;\">LabExampleDataset [2 groups/rows]</h3>\n",
       "<div style=\"margin-top: 0em\">\n",
       "<style scoped>\n",
       "    .dataframe tbody tr th:only-of-type {\n",
       "        vertical-align: middle;\n",
       "    }\n",
       "\n",
       "    .dataframe tbody tr th {\n",
       "        vertical-align: top;\n",
       "    }\n",
       "\n",
       "    .dataframe thead th {\n",
       "        text-align: right;\n",
       "    }\n",
       "</style>\n",
       "<table style=\"margin-left: 3em;\">\n",
       "  <thead>\n",
       "    <tr style=\"text-align: right;\">\n",
       "      <th style=\"text-align: center;\"></th>\n",
       "      <th style=\"text-align: center;\">cohort</th>\n",
       "      <th style=\"text-align: center;\">participant_id</th>\n",
       "      <th style=\"text-align: center;\">time_measure</th>\n",
       "      <th style=\"text-align: center;\">test</th>\n",
       "      <th style=\"text-align: center;\">trial</th>\n",
       "    </tr>\n",
       "  </thead>\n",
       "  <tbody>\n",
       "    <tr>\n",
       "      <th style=\"text-align: center;\">0</th>\n",
       "      <td style=\"text-align: center; padding-left: 2em; padding-right: 2em;\">HA</td>\n",
       "      <td style=\"text-align: center; padding-left: 2em; padding-right: 2em;\">001</td>\n",
       "      <td style=\"text-align: center; padding-left: 2em; padding-right: 2em;\">TimeMeasure1</td>\n",
       "      <td style=\"text-align: center; padding-left: 2em; padding-right: 2em;\">Test11</td>\n",
       "      <td style=\"text-align: center; padding-left: 2em; padding-right: 2em;\">Trial1</td>\n",
       "    </tr>\n",
       "    <tr>\n",
       "      <th style=\"text-align: center;\">1</th>\n",
       "      <td style=\"text-align: center; padding-left: 2em; padding-right: 2em;\">HA</td>\n",
       "      <td style=\"text-align: center; padding-left: 2em; padding-right: 2em;\">002</td>\n",
       "      <td style=\"text-align: center; padding-left: 2em; padding-right: 2em;\">TimeMeasure1</td>\n",
       "      <td style=\"text-align: center; padding-left: 2em; padding-right: 2em;\">Test11</td>\n",
       "      <td style=\"text-align: center; padding-left: 2em; padding-right: 2em;\">Trial1</td>\n",
       "    </tr>\n",
       "  </tbody>\n",
       "</table>\n",
       "</div>"
      ],
      "text/plain": [
       "LabExampleDataset [2 groups/rows]\n",
       "\n",
       "     cohort participant_id  time_measure    test   trial\n",
       "   0     HA            001  TimeMeasure1  Test11  Trial1\n",
       "   1     HA            002  TimeMeasure1  Test11  Trial1"
      ]
     },
     "execution_count": 7,
     "metadata": {},
     "output_type": "execute_result"
    }
   ],
   "source": [
    "dataset = LabExampleDataset(reference_system=\"INDIP\").get_subset(cohort=\"HA\", test=\"Test11\")\n",
    "dataset"
   ]
  },
  {
   "cell_type": "markdown",
   "metadata": {},
   "source": [
    "### Defining the pipeline"
   ]
  },
  {
   "cell_type": "code",
   "execution_count": 8,
   "metadata": {},
   "outputs": [],
   "source": [
    "# we should already have access to data_list, ic_list and label_list, these were extracted at the beginning of this tutorial.\n",
    "# with these, we can simply run the optimization on the ML algo itself, by doing my_algo.self_optimize(gs_data, ics, labels)\n",
    "\n",
    "from tpcp import OptimizablePipeline, OptimizableParameter\n",
    "\n",
    "# TODO: it turns out that you really need to provide a dataset... especially to the run method.\n",
    "\n",
    "class LROptiPipeline(OptimizablePipeline):\n",
    "    # This is a trick we use internally to check that the optimization is not doing something strange.\n",
    "    # Only the model is allowed to change. If other things change, we get an error by default.\n",
    "    \"\"\"\n",
    "    Add docs here.\n",
    "    \"\"\"\n",
    "\n",
    "    algo__model: OptimizableParameter\n",
    "    algo_with_results_: UllrichLRDetection\n",
    "\n",
    "    def __init__(self, algo):\n",
    "        self.algo = algo\n",
    "\n",
    "    @property\n",
    "    def ic_lr_(self):\n",
    "        \"\"\"\n",
    "        Add docs here.\n",
    "        \"\"\"\n",
    "        return self.algo_with_results_.ic_lr\n",
    "    \n",
    "    def run(self, datapoint):\n",
    "        \"\"\"\n",
    "        Add docs here.\n",
    "        \"\"\"\n",
    "        sampling_rate_hz = datapoint.sampling_rate_hz\n",
    "\n",
    "        # Firstly, we need to extract the data_list and ic_list from the datapoint. Note, that datapoint can contain multiple GSs.\n",
    "        # We can use the extract_ref_data utility function for this.\n",
    "        data_list, ic_list, _ = extract_ref_data(datapoint)\n",
    "\n",
    "        self.algo_with_results_ = self.algo.clone().detect(data_list, ic_list, sampling_rate_hz)\n",
    "        \n",
    "        return self\n",
    "    \n",
    "    def self_optimize(self, dataset):\n",
    "        \"\"\"\n",
    "        This method fits the algo to the entire dataset.\n",
    "        \"\"\"\n",
    "\n",
    "        all_gs_data = []\n",
    "        all_ics = []\n",
    "        all_labels = []\n",
    "\n",
    "        for datapoint in dataset:\n",
    "            \n",
    "            # TODO: this is a temporary fix, as HA, with participant_id = 002 (TimeMeasure1, Test5, Trial1) is problematic\n",
    "            try:\n",
    "                data_list, ic_list, label_list = extract_ref_data(datapoint)\n",
    "\n",
    "                all_gs_data.extend(data_list)\n",
    "                all_ics.extend(ic_list)\n",
    "                all_labels.extend(label_list)\n",
    "            except:\n",
    "                pass\n",
    "        \n",
    "        # No cloning here -> we actually want to modify the object\n",
    "        \n",
    "        self.algo.self_optimize(all_gs_data, all_ics, all_labels)\n",
    "\n",
    "        return self"
   ]
  },
  {
   "cell_type": "markdown",
   "metadata": {},
   "source": [
    "#### Testing the pipeline"
   ]
  },
  {
   "cell_type": "code",
   "execution_count": 9,
   "metadata": {},
   "outputs": [
    {
     "data": {
      "text/plain": [
       "[  predicted_lr_label\n",
       " 0              Right\n",
       " 1               Left\n",
       " 2              Right\n",
       " 3               Left\n",
       " 4              Right\n",
       " 5               Left\n",
       " 6              Right\n",
       " 7              Right\n",
       " 8              Right,\n",
       "    predicted_lr_label\n",
       " 0                Left\n",
       " 1                Left\n",
       " 2               Right\n",
       " 3               Right\n",
       " 4                Left\n",
       " 5               Right\n",
       " 6               Right\n",
       " 7               Right\n",
       " 8               Right\n",
       " 9               Right\n",
       " 10               Left\n",
       " 11              Right\n",
       " 12              Right\n",
       " 13               Left\n",
       " 14              Right\n",
       " 15               Left\n",
       " 16              Right\n",
       " 17              Right,\n",
       "    predicted_lr_label\n",
       " 0                Left\n",
       " 1                Left\n",
       " 2                Left\n",
       " 3               Right\n",
       " 4                Left\n",
       " 5               Right\n",
       " 6               Right\n",
       " 7               Right\n",
       " 8               Right\n",
       " 9               Right\n",
       " 10              Right\n",
       " 11              Right\n",
       " 12               Left\n",
       " 13              Right\n",
       " 14               Left\n",
       " 15              Right\n",
       " 16              Right\n",
       " 17               Left\n",
       " 18              Right]"
      ]
     },
     "execution_count": 9,
     "metadata": {},
     "output_type": "execute_result"
    }
   ],
   "source": [
    "pipe = LROptiPipeline(UllrichLRDetection(model = svm.SVC()))\n",
    "pipe.self_optimize(dataset)\n",
    "pipe.run(dataset[1]).ic_lr_ # "
   ]
  },
  {
   "cell_type": "markdown",
   "metadata": {},
   "source": [
    "### Defining the scorer"
   ]
  },
  {
   "cell_type": "code",
   "execution_count": 10,
   "metadata": {},
   "outputs": [],
   "source": [
    "from sklearn.metrics import accuracy_score, f1_score\n",
    "\n",
    "def scoring(pipe, datapoint):\n",
    "    pipe = pipe.safe_run(datapoint)\n",
    "    _, _, labels = extract_ref_data(datapoint)\n",
    "\n",
    "    # accuracy_score expects 1D arrays or lists of lables, so you need to flatten the list of predictions\n",
    "    flat_labels = [item for sublist in labels for item in sublist.values.flatten()]\n",
    "    flat_predictions = [item for sublist in pipe.run(datapoint).ic_lr_ for item in sublist.values.flatten()]\n",
    "\n",
    "    return {\"accuracy\": accuracy_score(flat_labels, flat_predictions)}\n"
   ]
  },
  {
   "cell_type": "code",
   "execution_count": 11,
   "metadata": {},
   "outputs": [
    {
     "data": {
      "text/plain": [
       "{'accuracy': 0.7608695652173914}"
      ]
     },
     "execution_count": 11,
     "metadata": {},
     "output_type": "execute_result"
    }
   ],
   "source": [
    "datapoint = dataset[1]\n",
    "scoring(pipe, datapoint) # ok, this seems to work now..."
   ]
  },
  {
   "cell_type": "code",
   "execution_count": 12,
   "metadata": {},
   "outputs": [
    {
     "data": {
      "text/plain": [
       "{'algo__model__C': 1.0,\n",
       " 'algo__model__break_ties': False,\n",
       " 'algo__model__cache_size': 200,\n",
       " 'algo__model__class_weight': None,\n",
       " 'algo__model__coef0': 0.0,\n",
       " 'algo__model__decision_function_shape': 'ovr',\n",
       " 'algo__model__degree': 3,\n",
       " 'algo__model__gamma': 'scale',\n",
       " 'algo__model__kernel': 'rbf',\n",
       " 'algo__model__max_iter': -1,\n",
       " 'algo__model__probability': False,\n",
       " 'algo__model__random_state': None,\n",
       " 'algo__model__shrinking': True,\n",
       " 'algo__model__tol': 0.001,\n",
       " 'algo__model__verbose': False,\n",
       " 'algo__model': SVC(),\n",
       " 'algo': UllrichLRDetection(model=SVC())}"
      ]
     },
     "execution_count": 12,
     "metadata": {},
     "output_type": "execute_result"
    }
   ],
   "source": [
    "pipe.get_params()"
   ]
  },
  {
   "cell_type": "code",
   "execution_count": 41,
   "metadata": {},
   "outputs": [
    {
     "data": {
      "text/html": [
       "<style>#sk-container-id-3 {color: black;}#sk-container-id-3 pre{padding: 0;}#sk-container-id-3 div.sk-toggleable {background-color: white;}#sk-container-id-3 label.sk-toggleable__label {cursor: pointer;display: block;width: 100%;margin-bottom: 0;padding: 0.3em;box-sizing: border-box;text-align: center;}#sk-container-id-3 label.sk-toggleable__label-arrow:before {content: \"▸\";float: left;margin-right: 0.25em;color: #696969;}#sk-container-id-3 label.sk-toggleable__label-arrow:hover:before {color: black;}#sk-container-id-3 div.sk-estimator:hover label.sk-toggleable__label-arrow:before {color: black;}#sk-container-id-3 div.sk-toggleable__content {max-height: 0;max-width: 0;overflow: hidden;text-align: left;background-color: #f0f8ff;}#sk-container-id-3 div.sk-toggleable__content pre {margin: 0.2em;color: black;border-radius: 0.25em;background-color: #f0f8ff;}#sk-container-id-3 input.sk-toggleable__control:checked~div.sk-toggleable__content {max-height: 200px;max-width: 100%;overflow: auto;}#sk-container-id-3 input.sk-toggleable__control:checked~label.sk-toggleable__label-arrow:before {content: \"▾\";}#sk-container-id-3 div.sk-estimator input.sk-toggleable__control:checked~label.sk-toggleable__label {background-color: #d4ebff;}#sk-container-id-3 div.sk-label input.sk-toggleable__control:checked~label.sk-toggleable__label {background-color: #d4ebff;}#sk-container-id-3 input.sk-hidden--visually {border: 0;clip: rect(1px 1px 1px 1px);clip: rect(1px, 1px, 1px, 1px);height: 1px;margin: -1px;overflow: hidden;padding: 0;position: absolute;width: 1px;}#sk-container-id-3 div.sk-estimator {font-family: monospace;background-color: #f0f8ff;border: 1px dotted black;border-radius: 0.25em;box-sizing: border-box;margin-bottom: 0.5em;}#sk-container-id-3 div.sk-estimator:hover {background-color: #d4ebff;}#sk-container-id-3 div.sk-parallel-item::after {content: \"\";width: 100%;border-bottom: 1px solid gray;flex-grow: 1;}#sk-container-id-3 div.sk-label:hover label.sk-toggleable__label {background-color: #d4ebff;}#sk-container-id-3 div.sk-serial::before {content: \"\";position: absolute;border-left: 1px solid gray;box-sizing: border-box;top: 0;bottom: 0;left: 50%;z-index: 0;}#sk-container-id-3 div.sk-serial {display: flex;flex-direction: column;align-items: center;background-color: white;padding-right: 0.2em;padding-left: 0.2em;position: relative;}#sk-container-id-3 div.sk-item {position: relative;z-index: 1;}#sk-container-id-3 div.sk-parallel {display: flex;align-items: stretch;justify-content: center;background-color: white;position: relative;}#sk-container-id-3 div.sk-item::before, #sk-container-id-3 div.sk-parallel-item::before {content: \"\";position: absolute;border-left: 1px solid gray;box-sizing: border-box;top: 0;bottom: 0;left: 50%;z-index: -1;}#sk-container-id-3 div.sk-parallel-item {display: flex;flex-direction: column;z-index: 1;position: relative;background-color: white;}#sk-container-id-3 div.sk-parallel-item:first-child::after {align-self: flex-end;width: 50%;}#sk-container-id-3 div.sk-parallel-item:last-child::after {align-self: flex-start;width: 50%;}#sk-container-id-3 div.sk-parallel-item:only-child::after {width: 0;}#sk-container-id-3 div.sk-dashed-wrapped {border: 1px dashed gray;margin: 0 0.4em 0.5em 0.4em;box-sizing: border-box;padding-bottom: 0.4em;background-color: white;}#sk-container-id-3 div.sk-label label {font-family: monospace;font-weight: bold;display: inline-block;line-height: 1.2em;}#sk-container-id-3 div.sk-label-container {text-align: center;}#sk-container-id-3 div.sk-container {/* jupyter's `normalize.less` sets `[hidden] { display: none; }` but bootstrap.min.css set `[hidden] { display: none !important; }` so we also need the `!important` here to be able to override the default hidden behavior on the sphinx rendered scikit-learn.org. See: https://github.com/scikit-learn/scikit-learn/issues/21755 */display: inline-block !important;position: relative;}#sk-container-id-3 div.sk-text-repr-fallback {display: none;}</style><div id=\"sk-container-id-3\" class=\"sk-top-container\"><div class=\"sk-text-repr-fallback\"><pre>SVC(C=1.25)</pre><b>In a Jupyter environment, please rerun this cell to show the HTML representation or trust the notebook. <br />On GitHub, the HTML representation is unable to render, please try loading this page with nbviewer.org.</b></div><div class=\"sk-container\" hidden><div class=\"sk-item\"><div class=\"sk-estimator sk-toggleable\"><input class=\"sk-toggleable__control sk-hidden--visually\" id=\"sk-estimator-id-3\" type=\"checkbox\" checked><label for=\"sk-estimator-id-3\" class=\"sk-toggleable__label sk-toggleable__label-arrow\">SVC</label><div class=\"sk-toggleable__content\"><pre>SVC(C=1.25)</pre></div></div></div></div></div>"
      ],
      "text/plain": [
       "SVC(C=1.25)"
      ]
     },
     "execution_count": 41,
     "metadata": {},
     "output_type": "execute_result"
    }
   ],
   "source": [
    "pipe.algo.model"
   ]
  },
  {
   "cell_type": "markdown",
   "metadata": {},
   "source": [
    "### Finally, we can test the grid search..."
   ]
  },
  {
   "cell_type": "code",
   "execution_count": 30,
   "metadata": {},
   "outputs": [
    {
     "name": "stderr",
     "output_type": "stream",
     "text": [
      "Datapoints: 100%|██████████| 1/1 [00:00<00:00,  3.35it/s]\n",
      "Datapoints: 100%|██████████| 1/1 [00:00<00:00,  4.15it/s].55it/s]\n",
      "Datapoints: 100%|██████████| 1/1 [00:00<00:00,  3.39it/s].72it/s]\n",
      "Datapoints: 100%|██████████| 1/1 [00:00<00:00,  4.06it/s].67it/s]\n",
      "Datapoints: 100%|██████████| 1/1 [00:00<00:00,  3.39it/s].73it/s]\n",
      "Datapoints: 100%|██████████| 1/1 [00:00<00:00,  3.90it/s].68it/s]\n",
      "Datapoints: 100%|██████████| 1/1 [00:00<00:00,  3.41it/s].70it/s]\n",
      "Datapoints: 100%|██████████| 1/1 [00:00<00:00,  4.04it/s].67it/s]\n",
      "Datapoints: 100%|██████████| 1/1 [00:00<00:00,  3.47it/s].70it/s]\n",
      "Datapoints: 100%|██████████| 1/1 [00:00<00:00,  4.02it/s].68it/s]\n",
      "Datapoints: 100%|██████████| 1/1 [00:00<00:00,  3.35it/s]2.73it/s]\n",
      "Datapoints: 100%|██████████| 1/1 [00:00<00:00,  4.19it/s]2.68it/s]\n",
      "Datapoints: 100%|██████████| 1/1 [00:00<00:00,  3.39it/s]2.73it/s]\n",
      "Datapoints: 100%|██████████| 1/1 [00:00<00:00,  4.21it/s]2.69it/s]\n",
      "Datapoints: 100%|██████████| 1/1 [00:00<00:00,  3.48it/s]2.76it/s]\n",
      "Datapoints: 100%|██████████| 1/1 [00:00<00:00,  4.08it/s]2.73it/s]\n",
      "Split-Para Combos: 100%|██████████| 16/16 [00:05<00:00,  2.71it/s]\n"
     ]
    }
   ],
   "source": [
    "from tpcp.optimize import GridSearchCV\n",
    "from sklearn.model_selection import ParameterGrid\n",
    "\n",
    "para_grid = ParameterGrid({\n",
    "    \"algo__model__C\": [0.5, 0.75, 1, 1.25, 1.5, 2, 5, 10]\n",
    "})\n",
    "\n",
    "gs = GridSearchCV(LROptiPipeline(UllrichLRDetection(model=svm.SVC())), para_grid, scoring=scoring, cv=2, return_optimized = \"accuracy\").optimize(dataset)"
   ]
  },
  {
   "cell_type": "code",
   "execution_count": 31,
   "metadata": {},
   "outputs": [
    {
     "data": {
      "text/html": [
       "<div>\n",
       "<style scoped>\n",
       "    .dataframe tbody tr th:only-of-type {\n",
       "        vertical-align: middle;\n",
       "    }\n",
       "\n",
       "    .dataframe tbody tr th {\n",
       "        vertical-align: top;\n",
       "    }\n",
       "\n",
       "    .dataframe thead th {\n",
       "        text-align: right;\n",
       "    }\n",
       "</style>\n",
       "<table border=\"1\" class=\"dataframe\">\n",
       "  <thead>\n",
       "    <tr style=\"text-align: right;\">\n",
       "      <th></th>\n",
       "      <th>mean_optimize_time</th>\n",
       "      <th>std_optimize_time</th>\n",
       "      <th>mean_score_time</th>\n",
       "      <th>std_score_time</th>\n",
       "      <th>split0_test_data_labels</th>\n",
       "      <th>split1_test_data_labels</th>\n",
       "      <th>split0_train_data_labels</th>\n",
       "      <th>split1_train_data_labels</th>\n",
       "      <th>param_algo__model__C</th>\n",
       "      <th>params</th>\n",
       "      <th>split0_test_accuracy</th>\n",
       "      <th>split1_test_accuracy</th>\n",
       "      <th>mean_test_accuracy</th>\n",
       "      <th>std_test_accuracy</th>\n",
       "      <th>rank_test_accuracy</th>\n",
       "      <th>split0_test_single_accuracy</th>\n",
       "      <th>split1_test_single_accuracy</th>\n",
       "    </tr>\n",
       "  </thead>\n",
       "  <tbody>\n",
       "    <tr>\n",
       "      <th>0</th>\n",
       "      <td>0.089924</td>\n",
       "      <td>0.007707</td>\n",
       "      <td>0.276672</td>\n",
       "      <td>0.028362</td>\n",
       "      <td>[(HA, 001, TimeMeasure1, Test11, Trial1)]</td>\n",
       "      <td>[(HA, 002, TimeMeasure1, Test11, Trial1)]</td>\n",
       "      <td>[(HA, 002, TimeMeasure1, Test11, Trial1)]</td>\n",
       "      <td>[(HA, 001, TimeMeasure1, Test11, Trial1)]</td>\n",
       "      <td>0.5</td>\n",
       "      <td>{'algo__model__C': 0.5}</td>\n",
       "      <td>0.777778</td>\n",
       "      <td>0.673913</td>\n",
       "      <td>0.725845</td>\n",
       "      <td>0.051932</td>\n",
       "      <td>2</td>\n",
       "      <td>[0.7777777777777778]</td>\n",
       "      <td>[0.6739130434782609]</td>\n",
       "    </tr>\n",
       "    <tr>\n",
       "      <th>1</th>\n",
       "      <td>0.087108</td>\n",
       "      <td>0.009522</td>\n",
       "      <td>0.277363</td>\n",
       "      <td>0.024260</td>\n",
       "      <td>[(HA, 001, TimeMeasure1, Test11, Trial1)]</td>\n",
       "      <td>[(HA, 002, TimeMeasure1, Test11, Trial1)]</td>\n",
       "      <td>[(HA, 002, TimeMeasure1, Test11, Trial1)]</td>\n",
       "      <td>[(HA, 001, TimeMeasure1, Test11, Trial1)]</td>\n",
       "      <td>0.75</td>\n",
       "      <td>{'algo__model__C': 0.75}</td>\n",
       "      <td>0.777778</td>\n",
       "      <td>0.673913</td>\n",
       "      <td>0.725845</td>\n",
       "      <td>0.051932</td>\n",
       "      <td>2</td>\n",
       "      <td>[0.7777777777777778]</td>\n",
       "      <td>[0.6739130434782609]</td>\n",
       "    </tr>\n",
       "    <tr>\n",
       "      <th>2</th>\n",
       "      <td>0.088991</td>\n",
       "      <td>0.008639</td>\n",
       "      <td>0.282011</td>\n",
       "      <td>0.019153</td>\n",
       "      <td>[(HA, 001, TimeMeasure1, Test11, Trial1)]</td>\n",
       "      <td>[(HA, 002, TimeMeasure1, Test11, Trial1)]</td>\n",
       "      <td>[(HA, 002, TimeMeasure1, Test11, Trial1)]</td>\n",
       "      <td>[(HA, 001, TimeMeasure1, Test11, Trial1)]</td>\n",
       "      <td>1</td>\n",
       "      <td>{'algo__model__C': 1}</td>\n",
       "      <td>0.777778</td>\n",
       "      <td>0.673913</td>\n",
       "      <td>0.725845</td>\n",
       "      <td>0.051932</td>\n",
       "      <td>2</td>\n",
       "      <td>[0.7777777777777778]</td>\n",
       "      <td>[0.6739130434782609]</td>\n",
       "    </tr>\n",
       "    <tr>\n",
       "      <th>3</th>\n",
       "      <td>0.089752</td>\n",
       "      <td>0.011793</td>\n",
       "      <td>0.276702</td>\n",
       "      <td>0.022855</td>\n",
       "      <td>[(HA, 001, TimeMeasure1, Test11, Trial1)]</td>\n",
       "      <td>[(HA, 002, TimeMeasure1, Test11, Trial1)]</td>\n",
       "      <td>[(HA, 002, TimeMeasure1, Test11, Trial1)]</td>\n",
       "      <td>[(HA, 001, TimeMeasure1, Test11, Trial1)]</td>\n",
       "      <td>1.25</td>\n",
       "      <td>{'algo__model__C': 1.25}</td>\n",
       "      <td>0.793651</td>\n",
       "      <td>0.673913</td>\n",
       "      <td>0.733782</td>\n",
       "      <td>0.059869</td>\n",
       "      <td>1</td>\n",
       "      <td>[0.7936507936507936]</td>\n",
       "      <td>[0.6739130434782609]</td>\n",
       "    </tr>\n",
       "    <tr>\n",
       "      <th>4</th>\n",
       "      <td>0.087044</td>\n",
       "      <td>0.006292</td>\n",
       "      <td>0.275110</td>\n",
       "      <td>0.019961</td>\n",
       "      <td>[(HA, 001, TimeMeasure1, Test11, Trial1)]</td>\n",
       "      <td>[(HA, 002, TimeMeasure1, Test11, Trial1)]</td>\n",
       "      <td>[(HA, 002, TimeMeasure1, Test11, Trial1)]</td>\n",
       "      <td>[(HA, 001, TimeMeasure1, Test11, Trial1)]</td>\n",
       "      <td>1.5</td>\n",
       "      <td>{'algo__model__C': 1.5}</td>\n",
       "      <td>0.793651</td>\n",
       "      <td>0.652174</td>\n",
       "      <td>0.722912</td>\n",
       "      <td>0.070738</td>\n",
       "      <td>5</td>\n",
       "      <td>[0.7936507936507936]</td>\n",
       "      <td>[0.6521739130434783]</td>\n",
       "    </tr>\n",
       "    <tr>\n",
       "      <th>5</th>\n",
       "      <td>0.088441</td>\n",
       "      <td>0.009643</td>\n",
       "      <td>0.275011</td>\n",
       "      <td>0.029915</td>\n",
       "      <td>[(HA, 001, TimeMeasure1, Test11, Trial1)]</td>\n",
       "      <td>[(HA, 002, TimeMeasure1, Test11, Trial1)]</td>\n",
       "      <td>[(HA, 002, TimeMeasure1, Test11, Trial1)]</td>\n",
       "      <td>[(HA, 001, TimeMeasure1, Test11, Trial1)]</td>\n",
       "      <td>2</td>\n",
       "      <td>{'algo__model__C': 2}</td>\n",
       "      <td>0.793651</td>\n",
       "      <td>0.652174</td>\n",
       "      <td>0.722912</td>\n",
       "      <td>0.070738</td>\n",
       "      <td>5</td>\n",
       "      <td>[0.7936507936507936]</td>\n",
       "      <td>[0.6521739130434783]</td>\n",
       "    </tr>\n",
       "    <tr>\n",
       "      <th>6</th>\n",
       "      <td>0.085874</td>\n",
       "      <td>0.008302</td>\n",
       "      <td>0.272837</td>\n",
       "      <td>0.028896</td>\n",
       "      <td>[(HA, 001, TimeMeasure1, Test11, Trial1)]</td>\n",
       "      <td>[(HA, 002, TimeMeasure1, Test11, Trial1)]</td>\n",
       "      <td>[(HA, 002, TimeMeasure1, Test11, Trial1)]</td>\n",
       "      <td>[(HA, 001, TimeMeasure1, Test11, Trial1)]</td>\n",
       "      <td>5</td>\n",
       "      <td>{'algo__model__C': 5}</td>\n",
       "      <td>0.777778</td>\n",
       "      <td>0.608696</td>\n",
       "      <td>0.693237</td>\n",
       "      <td>0.084541</td>\n",
       "      <td>7</td>\n",
       "      <td>[0.7777777777777778]</td>\n",
       "      <td>[0.6086956521739131]</td>\n",
       "    </tr>\n",
       "    <tr>\n",
       "      <th>7</th>\n",
       "      <td>0.088206</td>\n",
       "      <td>0.010889</td>\n",
       "      <td>0.272889</td>\n",
       "      <td>0.021180</td>\n",
       "      <td>[(HA, 001, TimeMeasure1, Test11, Trial1)]</td>\n",
       "      <td>[(HA, 002, TimeMeasure1, Test11, Trial1)]</td>\n",
       "      <td>[(HA, 002, TimeMeasure1, Test11, Trial1)]</td>\n",
       "      <td>[(HA, 001, TimeMeasure1, Test11, Trial1)]</td>\n",
       "      <td>10</td>\n",
       "      <td>{'algo__model__C': 10}</td>\n",
       "      <td>0.777778</td>\n",
       "      <td>0.608696</td>\n",
       "      <td>0.693237</td>\n",
       "      <td>0.084541</td>\n",
       "      <td>7</td>\n",
       "      <td>[0.7777777777777778]</td>\n",
       "      <td>[0.6086956521739131]</td>\n",
       "    </tr>\n",
       "  </tbody>\n",
       "</table>\n",
       "</div>"
      ],
      "text/plain": [
       "   mean_optimize_time  std_optimize_time  mean_score_time  std_score_time  \\\n",
       "0            0.089924           0.007707         0.276672        0.028362   \n",
       "1            0.087108           0.009522         0.277363        0.024260   \n",
       "2            0.088991           0.008639         0.282011        0.019153   \n",
       "3            0.089752           0.011793         0.276702        0.022855   \n",
       "4            0.087044           0.006292         0.275110        0.019961   \n",
       "5            0.088441           0.009643         0.275011        0.029915   \n",
       "6            0.085874           0.008302         0.272837        0.028896   \n",
       "7            0.088206           0.010889         0.272889        0.021180   \n",
       "\n",
       "                     split0_test_data_labels  \\\n",
       "0  [(HA, 001, TimeMeasure1, Test11, Trial1)]   \n",
       "1  [(HA, 001, TimeMeasure1, Test11, Trial1)]   \n",
       "2  [(HA, 001, TimeMeasure1, Test11, Trial1)]   \n",
       "3  [(HA, 001, TimeMeasure1, Test11, Trial1)]   \n",
       "4  [(HA, 001, TimeMeasure1, Test11, Trial1)]   \n",
       "5  [(HA, 001, TimeMeasure1, Test11, Trial1)]   \n",
       "6  [(HA, 001, TimeMeasure1, Test11, Trial1)]   \n",
       "7  [(HA, 001, TimeMeasure1, Test11, Trial1)]   \n",
       "\n",
       "                     split1_test_data_labels  \\\n",
       "0  [(HA, 002, TimeMeasure1, Test11, Trial1)]   \n",
       "1  [(HA, 002, TimeMeasure1, Test11, Trial1)]   \n",
       "2  [(HA, 002, TimeMeasure1, Test11, Trial1)]   \n",
       "3  [(HA, 002, TimeMeasure1, Test11, Trial1)]   \n",
       "4  [(HA, 002, TimeMeasure1, Test11, Trial1)]   \n",
       "5  [(HA, 002, TimeMeasure1, Test11, Trial1)]   \n",
       "6  [(HA, 002, TimeMeasure1, Test11, Trial1)]   \n",
       "7  [(HA, 002, TimeMeasure1, Test11, Trial1)]   \n",
       "\n",
       "                    split0_train_data_labels  \\\n",
       "0  [(HA, 002, TimeMeasure1, Test11, Trial1)]   \n",
       "1  [(HA, 002, TimeMeasure1, Test11, Trial1)]   \n",
       "2  [(HA, 002, TimeMeasure1, Test11, Trial1)]   \n",
       "3  [(HA, 002, TimeMeasure1, Test11, Trial1)]   \n",
       "4  [(HA, 002, TimeMeasure1, Test11, Trial1)]   \n",
       "5  [(HA, 002, TimeMeasure1, Test11, Trial1)]   \n",
       "6  [(HA, 002, TimeMeasure1, Test11, Trial1)]   \n",
       "7  [(HA, 002, TimeMeasure1, Test11, Trial1)]   \n",
       "\n",
       "                    split1_train_data_labels param_algo__model__C  \\\n",
       "0  [(HA, 001, TimeMeasure1, Test11, Trial1)]                  0.5   \n",
       "1  [(HA, 001, TimeMeasure1, Test11, Trial1)]                 0.75   \n",
       "2  [(HA, 001, TimeMeasure1, Test11, Trial1)]                    1   \n",
       "3  [(HA, 001, TimeMeasure1, Test11, Trial1)]                 1.25   \n",
       "4  [(HA, 001, TimeMeasure1, Test11, Trial1)]                  1.5   \n",
       "5  [(HA, 001, TimeMeasure1, Test11, Trial1)]                    2   \n",
       "6  [(HA, 001, TimeMeasure1, Test11, Trial1)]                    5   \n",
       "7  [(HA, 001, TimeMeasure1, Test11, Trial1)]                   10   \n",
       "\n",
       "                     params  split0_test_accuracy  split1_test_accuracy  \\\n",
       "0   {'algo__model__C': 0.5}              0.777778              0.673913   \n",
       "1  {'algo__model__C': 0.75}              0.777778              0.673913   \n",
       "2     {'algo__model__C': 1}              0.777778              0.673913   \n",
       "3  {'algo__model__C': 1.25}              0.793651              0.673913   \n",
       "4   {'algo__model__C': 1.5}              0.793651              0.652174   \n",
       "5     {'algo__model__C': 2}              0.793651              0.652174   \n",
       "6     {'algo__model__C': 5}              0.777778              0.608696   \n",
       "7    {'algo__model__C': 10}              0.777778              0.608696   \n",
       "\n",
       "   mean_test_accuracy  std_test_accuracy  rank_test_accuracy  \\\n",
       "0            0.725845           0.051932                   2   \n",
       "1            0.725845           0.051932                   2   \n",
       "2            0.725845           0.051932                   2   \n",
       "3            0.733782           0.059869                   1   \n",
       "4            0.722912           0.070738                   5   \n",
       "5            0.722912           0.070738                   5   \n",
       "6            0.693237           0.084541                   7   \n",
       "7            0.693237           0.084541                   7   \n",
       "\n",
       "  split0_test_single_accuracy split1_test_single_accuracy  \n",
       "0        [0.7777777777777778]        [0.6739130434782609]  \n",
       "1        [0.7777777777777778]        [0.6739130434782609]  \n",
       "2        [0.7777777777777778]        [0.6739130434782609]  \n",
       "3        [0.7936507936507936]        [0.6739130434782609]  \n",
       "4        [0.7936507936507936]        [0.6521739130434783]  \n",
       "5        [0.7936507936507936]        [0.6521739130434783]  \n",
       "6        [0.7777777777777778]        [0.6086956521739131]  \n",
       "7        [0.7777777777777778]        [0.6086956521739131]  "
      ]
     },
     "execution_count": 31,
     "metadata": {},
     "output_type": "execute_result"
    }
   ],
   "source": [
    "pd.DataFrame(gs.cv_results_)"
   ]
  },
  {
   "cell_type": "code",
   "execution_count": 32,
   "metadata": {},
   "outputs": [
    {
     "data": {
      "text/plain": [
       "0.7337819185645272"
      ]
     },
     "execution_count": 32,
     "metadata": {},
     "output_type": "execute_result"
    }
   ],
   "source": [
    "gs.best_score_"
   ]
  },
  {
   "cell_type": "code",
   "execution_count": 36,
   "metadata": {},
   "outputs": [
    {
     "data": {
      "text/plain": [
       "{'algo__model__C': 1.25,\n",
       " 'algo__model__break_ties': False,\n",
       " 'algo__model__cache_size': 200,\n",
       " 'algo__model__class_weight': None,\n",
       " 'algo__model__coef0': 0.0,\n",
       " 'algo__model__decision_function_shape': 'ovr',\n",
       " 'algo__model__degree': 3,\n",
       " 'algo__model__gamma': 'scale',\n",
       " 'algo__model__kernel': 'rbf',\n",
       " 'algo__model__max_iter': -1,\n",
       " 'algo__model__probability': False,\n",
       " 'algo__model__random_state': None,\n",
       " 'algo__model__shrinking': True,\n",
       " 'algo__model__tol': 0.001,\n",
       " 'algo__model__verbose': False,\n",
       " 'algo__model': SVC(C=1.25),\n",
       " 'algo': UllrichLRDetection(model=SVC(C=1.25))}"
      ]
     },
     "execution_count": 36,
     "metadata": {},
     "output_type": "execute_result"
    }
   ],
   "source": [
    "gs.optimized_pipeline_.get_params()"
   ]
  },
  {
   "cell_type": "markdown",
   "metadata": {},
   "source": [
    "Assign the best model to the pipeline algo."
   ]
  },
  {
   "cell_type": "code",
   "execution_count": 38,
   "metadata": {},
   "outputs": [
    {
     "data": {
      "text/plain": [
       "UllrichLRDetection(model=SVC(C=1.25))"
      ]
     },
     "execution_count": 38,
     "metadata": {},
     "output_type": "execute_result"
    }
   ],
   "source": [
    "pipe.algo = gs.optimized_pipeline_.algo\n",
    "pipe.algo"
   ]
  },
  {
   "cell_type": "markdown",
   "metadata": {},
   "source": [
    "Test the 'optimized' params."
   ]
  },
  {
   "cell_type": "code",
   "execution_count": 39,
   "metadata": {},
   "outputs": [
    {
     "data": {
      "text/plain": [
       "{'accuracy': 0.7391304347826086}"
      ]
     },
     "execution_count": 39,
     "metadata": {},
     "output_type": "execute_result"
    }
   ],
   "source": [
    "datapoint = dataset[1]\n",
    "scoring(pipe, datapoint) # ok, this seems to work now..."
   ]
  },
  {
   "cell_type": "markdown",
   "metadata": {},
   "source": [
    "# Testing the optimizer class now..."
   ]
  },
  {
   "cell_type": "code",
   "execution_count": 1,
   "metadata": {},
   "outputs": [
    {
     "name": "stderr",
     "output_type": "stream",
     "text": [
      "/Users/alexstihi/Documents/PhD_Repos/Mobilize_D/gaitlink/.venv/lib/python3.11/site-packages/tqdm/auto.py:21: TqdmWarning: IProgress not found. Please update jupyter and ipywidgets. See https://ipywidgets.readthedocs.io/en/stable/user_install.html\n",
      "  from .autonotebook import tqdm as notebook_tqdm\n"
     ]
    },
    {
     "data": {
      "text/html": [
       "<h4 style=\"margin-bottom: 0.1em;\">LabExampleDataset [2 groups/rows]</h3>\n",
       "<div style=\"margin-top: 0em\">\n",
       "<style scoped>\n",
       "    .dataframe tbody tr th:only-of-type {\n",
       "        vertical-align: middle;\n",
       "    }\n",
       "\n",
       "    .dataframe tbody tr th {\n",
       "        vertical-align: top;\n",
       "    }\n",
       "\n",
       "    .dataframe thead th {\n",
       "        text-align: right;\n",
       "    }\n",
       "</style>\n",
       "<table style=\"margin-left: 3em;\">\n",
       "  <thead>\n",
       "    <tr style=\"text-align: right;\">\n",
       "      <th style=\"text-align: center;\"></th>\n",
       "      <th style=\"text-align: center;\">cohort</th>\n",
       "      <th style=\"text-align: center;\">participant_id</th>\n",
       "      <th style=\"text-align: center;\">time_measure</th>\n",
       "      <th style=\"text-align: center;\">test</th>\n",
       "      <th style=\"text-align: center;\">trial</th>\n",
       "    </tr>\n",
       "  </thead>\n",
       "  <tbody>\n",
       "    <tr>\n",
       "      <th style=\"text-align: center;\">0</th>\n",
       "      <td style=\"text-align: center; padding-left: 2em; padding-right: 2em;\">HA</td>\n",
       "      <td style=\"text-align: center; padding-left: 2em; padding-right: 2em;\">001</td>\n",
       "      <td style=\"text-align: center; padding-left: 2em; padding-right: 2em;\">TimeMeasure1</td>\n",
       "      <td style=\"text-align: center; padding-left: 2em; padding-right: 2em;\">Test11</td>\n",
       "      <td style=\"text-align: center; padding-left: 2em; padding-right: 2em;\">Trial1</td>\n",
       "    </tr>\n",
       "    <tr>\n",
       "      <th style=\"text-align: center;\">1</th>\n",
       "      <td style=\"text-align: center; padding-left: 2em; padding-right: 2em;\">HA</td>\n",
       "      <td style=\"text-align: center; padding-left: 2em; padding-right: 2em;\">002</td>\n",
       "      <td style=\"text-align: center; padding-left: 2em; padding-right: 2em;\">TimeMeasure1</td>\n",
       "      <td style=\"text-align: center; padding-left: 2em; padding-right: 2em;\">Test11</td>\n",
       "      <td style=\"text-align: center; padding-left: 2em; padding-right: 2em;\">Trial1</td>\n",
       "    </tr>\n",
       "  </tbody>\n",
       "</table>\n",
       "</div>"
      ],
      "text/plain": [
       "LabExampleDataset [2 groups/rows]\n",
       "\n",
       "     cohort participant_id  time_measure    test   trial\n",
       "   0     HA            001  TimeMeasure1  Test11  Trial1\n",
       "   1     HA            002  TimeMeasure1  Test11  Trial1"
      ]
     },
     "execution_count": 1,
     "metadata": {},
     "output_type": "execute_result"
    }
   ],
   "source": [
    "from gaitlink.lr_detection import UllrichLRDetection\n",
    "from gaitlink.lr_detection._utils import extract_ref_data\n",
    "from gaitlink.data import LabExampleDataset\n",
    "from sklearn import svm\n",
    "from sklearn.model_selection import ParameterGrid\n",
    "from sklearn.metrics import accuracy_score, f1_score\n",
    "\n",
    "from gaitlink.lr_detection._lr_optimizer import LROptiPipeline, UllrichLROptimizer\n",
    "\n",
    "dataset = LabExampleDataset(reference_system=\"INDIP\").get_subset(cohort=\"HA\", test=\"Test11\")\n",
    "dataset"
   ]
  },
  {
   "cell_type": "code",
   "execution_count": 2,
   "metadata": {},
   "outputs": [
    {
     "data": {
      "text/plain": [
       "[  predicted_lr_label\n",
       " 0              Right\n",
       " 1               Left\n",
       " 2              Right\n",
       " 3               Left\n",
       " 4              Right\n",
       " 5               Left\n",
       " 6              Right\n",
       " 7              Right\n",
       " 8              Right,\n",
       "    predicted_lr_label\n",
       " 0                Left\n",
       " 1                Left\n",
       " 2               Right\n",
       " 3               Right\n",
       " 4                Left\n",
       " 5               Right\n",
       " 6               Right\n",
       " 7               Right\n",
       " 8               Right\n",
       " 9               Right\n",
       " 10               Left\n",
       " 11              Right\n",
       " 12              Right\n",
       " 13               Left\n",
       " 14              Right\n",
       " 15               Left\n",
       " 16              Right\n",
       " 17              Right,\n",
       "    predicted_lr_label\n",
       " 0                Left\n",
       " 1                Left\n",
       " 2                Left\n",
       " 3               Right\n",
       " 4                Left\n",
       " 5               Right\n",
       " 6               Right\n",
       " 7               Right\n",
       " 8               Right\n",
       " 9               Right\n",
       " 10              Right\n",
       " 11              Right\n",
       " 12               Left\n",
       " 13              Right\n",
       " 14               Left\n",
       " 15              Right\n",
       " 16              Right\n",
       " 17               Left\n",
       " 18              Right]"
      ]
     },
     "execution_count": 2,
     "metadata": {},
     "output_type": "execute_result"
    }
   ],
   "source": [
    "pipe = LROptiPipeline(UllrichLRDetection(model = svm.SVC()))\n",
    "pipe.self_optimize(dataset)\n",
    "pipe.run(dataset[1]).ic_lr_"
   ]
  },
  {
   "cell_type": "code",
   "execution_count": 3,
   "metadata": {},
   "outputs": [
    {
     "data": {
      "text/plain": [
       "{'accuracy': 0.7608695652173914}"
      ]
     },
     "execution_count": 3,
     "metadata": {},
     "output_type": "execute_result"
    }
   ],
   "source": [
    "para_grid = ParameterGrid({\n",
    "    \"algo__model__C\": [0.5, 0.75, 1, 1.25, 1.5, 2, 5, 10]\n",
    "})\n",
    "\n",
    "def scoring(pipe, datapoint):\n",
    "    pipe = pipe.safe_run(datapoint)\n",
    "    _, _, labels = extract_ref_data(datapoint)\n",
    "\n",
    "    # accuracy_score expects 1D arrays or lists of lables, so you need to flatten the list of predictions\n",
    "    flat_labels = [item for sublist in labels for item in sublist.values.flatten()]\n",
    "    flat_predictions = [item for sublist in pipe.run(datapoint).ic_lr_ for item in sublist.values.flatten()]\n",
    "\n",
    "    return {\"accuracy\": accuracy_score(flat_labels, flat_predictions)}\n",
    "\n",
    "datapoint = dataset[1]\n",
    "scoring(pipe, datapoint) # ok, this seems to work now..."
   ]
  },
  {
   "cell_type": "code",
   "execution_count": 5,
   "metadata": {},
   "outputs": [
    {
     "name": "stderr",
     "output_type": "stream",
     "text": [
      "Datapoints: 100%|██████████| 1/1 [00:00<00:00,  3.42it/s]\n",
      "Datapoints: 100%|██████████| 1/1 [00:00<00:00,  4.20it/s].56it/s]\n",
      "Datapoints: 100%|██████████| 1/1 [00:00<00:00,  3.39it/s].75it/s]\n",
      "Datapoints: 100%|██████████| 1/1 [00:00<00:00,  3.95it/s].68it/s]\n",
      "Datapoints: 100%|██████████| 1/1 [00:00<00:00,  3.39it/s].71it/s]\n",
      "Datapoints: 100%|██████████| 1/1 [00:00<00:00,  4.16it/s].66it/s]\n",
      "Datapoints: 100%|██████████| 1/1 [00:00<00:00,  3.07it/s].72it/s]\n",
      "Datapoints: 100%|██████████| 1/1 [00:00<00:00,  4.10it/s].60it/s]\n",
      "Datapoints: 100%|██████████| 1/1 [00:00<00:00,  3.47it/s].67it/s]\n",
      "Datapoints: 100%|██████████| 1/1 [00:00<00:00,  4.23it/s].66it/s]\n",
      "Datapoints: 100%|██████████| 1/1 [00:00<00:00,  3.47it/s]2.73it/s]\n",
      "Datapoints: 100%|██████████| 1/1 [00:00<00:00,  4.05it/s]2.70it/s]\n",
      "Datapoints: 100%|██████████| 1/1 [00:00<00:00,  3.41it/s]2.74it/s]\n",
      "Datapoints: 100%|██████████| 1/1 [00:00<00:00,  4.16it/s]2.69it/s]\n",
      "Datapoints: 100%|██████████| 1/1 [00:00<00:00,  3.48it/s]2.74it/s]\n",
      "Datapoints: 100%|██████████| 1/1 [00:00<00:00,  4.05it/s]2.72it/s]\n",
      "Split-Para Combos: 100%|██████████| 16/16 [00:05<00:00,  2.71it/s]\n"
     ]
    },
    {
     "data": {
      "text/plain": [
       "GridSearchCV(cv=2, n_jobs=None, optimize_with_info=True, parameter_grid=<sklearn.model_selection._search.ParameterGrid object at 0x177001f10>, pipeline=LROptiPipeline(algo=UllrichLRDetection(model=SVC())), pre_dispatch='n_jobs', progress_bar=True, pure_parameters=False, return_optimized='accuracy', return_train_score=False, safe_optimize=True, scoring=<function scoring at 0x176776fc0>, verbose=0)"
      ]
     },
     "execution_count": 5,
     "metadata": {},
     "output_type": "execute_result"
    }
   ],
   "source": [
    "optimizer = UllrichLROptimizer(pipe, para_grid)\n",
    "optimizer.optimize(dataset, scoring_function = scoring)"
   ]
  },
  {
   "cell_type": "code",
   "execution_count": 7,
   "metadata": {},
   "outputs": [
    {
     "data": {
      "text/plain": [
       "{'algo__model__C': 1.25}"
      ]
     },
     "execution_count": 7,
     "metadata": {},
     "output_type": "execute_result"
    }
   ],
   "source": [
    "optimizer.optimization_results.best_params_"
   ]
  }
 ],
 "metadata": {
  "kernelspec": {
   "display_name": ".venv",
   "language": "python",
   "name": "python3"
  },
  "language_info": {
   "codemirror_mode": {
    "name": "ipython",
    "version": 3
   },
   "file_extension": ".py",
   "mimetype": "text/x-python",
   "name": "python",
   "nbconvert_exporter": "python",
   "pygments_lexer": "ipython3",
   "version": "3.11.5"
  }
 },
 "nbformat": 4,
 "nbformat_minor": 2
}
