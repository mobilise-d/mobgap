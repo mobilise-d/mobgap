{
 "cells": [
  {
   "cell_type": "code",
   "execution_count": 2,
   "metadata": {},
   "outputs": [],
   "source": [
    "import numpy as np\n",
    "import pandas as pd\n",
    "\n",
    "from gaitlink.lrml import UllrichLRDetection\n",
    "from gaitlink.lrml._utils import extract_ref_data\n",
    "\n",
    "from gaitlink.data import load_mobilised_matlab_format, get_all_lab_example_data_paths\n",
    "from gaitlink.data import LabExampleDataset\n",
    "\n",
    "from sklearn import svm"
   ]
  },
  {
   "cell_type": "code",
   "execution_count": 3,
   "metadata": {},
   "outputs": [],
   "source": [
    "# ---------------------------------------------\n",
    "#           Load some example data\n",
    "# ---------------------------------------------\n",
    "\n",
    "dataset = LabExampleDataset(reference_system=\"INDIP\")\n",
    "datapoint = dataset.get_subset(cohort=\"HA\", participant_id=\"001\", test=\"Test11\", trial=\"Trial1\")\n",
    "\n",
    "sampling_rate_hz = datapoint.sampling_rate_hz\n",
    "sampling_rate_hz_ref = datapoint.reference_sampling_rate_hz_\n",
    "\n",
    "\n",
    "data_list, ic_list, label_list = extract_ref_data(datapoint)"
   ]
  },
  {
   "cell_type": "code",
   "execution_count": 5,
   "metadata": {},
   "outputs": [
    {
     "name": "stdout",
     "output_type": "stream",
     "text": [
      "Loading cached model and scaler...\n"
     ]
    },
    {
     "data": {
      "text/plain": [
       "UllrichLRDetection(lower_band=0.5, model=SVC(C=0.1, kernel='linear'), scaler=MinMaxScaler(), upper_band=2)"
      ]
     },
     "execution_count": 5,
     "metadata": {},
     "output_type": "execute_result"
    }
   ],
   "source": [
    "hc_params = UllrichLRDetection.PredefinedParameters.msproject_hc_all\n",
    "\n",
    "algo_with_hc_params = UllrichLRDetection(**hc_params)\n",
    "algo_with_hc_params\n",
    "\n",
    "algo_with_hc_params.detect(data = data_list[0],\n",
    "                          ic_list = ic_list[0],\n",
    "                          sampling_rate_hz = sampling_rate_hz)"
   ]
  },
  {
   "cell_type": "code",
   "execution_count": 6,
   "metadata": {},
   "outputs": [
    {
     "data": {
      "text/plain": [
       "UllrichLRDetection(lower_band=0.5, model=SVC(C=0.1, kernel='linear'), scaler=MinMaxScaler(), upper_band=2)"
      ]
     },
     "execution_count": 6,
     "metadata": {},
     "output_type": "execute_result"
    }
   ],
   "source": [
    "algo_with_hc_params"
   ]
  },
  {
   "cell_type": "code",
   "execution_count": 7,
   "metadata": {},
   "outputs": [
    {
     "data": {
      "text/plain": [
       "UllrichLRDetection(lower_band=0.2, model=SVC(C=0.1, kernel='linear'), scaler=MinMaxScaler(), upper_band=2)"
      ]
     },
     "execution_count": 7,
     "metadata": {},
     "output_type": "execute_result"
    }
   ],
   "source": [
    "algo_with_hc_params.lower_band = 0.2 # change the filtering lower band\n",
    "algo_with_hc_params"
   ]
  },
  {
   "cell_type": "code",
   "execution_count": 8,
   "metadata": {},
   "outputs": [],
   "source": [
    "res = algo_with_hc_params.ic_lr_list_\n",
    "# you might also want to keep the location of ICs..."
   ]
  },
  {
   "cell_type": "code",
   "execution_count": 10,
   "metadata": {},
   "outputs": [
    {
     "data": {
      "text/html": [
       "<div>\n",
       "<style scoped>\n",
       "    .dataframe tbody tr th:only-of-type {\n",
       "        vertical-align: middle;\n",
       "    }\n",
       "\n",
       "    .dataframe tbody tr th {\n",
       "        vertical-align: top;\n",
       "    }\n",
       "\n",
       "    .dataframe thead th {\n",
       "        text-align: right;\n",
       "    }\n",
       "</style>\n",
       "<table border=\"1\" class=\"dataframe\">\n",
       "  <thead>\n",
       "    <tr style=\"text-align: right;\">\n",
       "      <th></th>\n",
       "      <th>ic</th>\n",
       "      <th>lr_label</th>\n",
       "    </tr>\n",
       "  </thead>\n",
       "  <tbody>\n",
       "    <tr>\n",
       "      <th>0</th>\n",
       "      <td>0</td>\n",
       "      <td>Left</td>\n",
       "    </tr>\n",
       "    <tr>\n",
       "      <th>1</th>\n",
       "      <td>77</td>\n",
       "      <td>Left</td>\n",
       "    </tr>\n",
       "    <tr>\n",
       "      <th>2</th>\n",
       "      <td>131</td>\n",
       "      <td>Left</td>\n",
       "    </tr>\n",
       "    <tr>\n",
       "      <th>3</th>\n",
       "      <td>192</td>\n",
       "      <td>Right</td>\n",
       "    </tr>\n",
       "    <tr>\n",
       "      <th>4</th>\n",
       "      <td>244</td>\n",
       "      <td>Left</td>\n",
       "    </tr>\n",
       "    <tr>\n",
       "      <th>5</th>\n",
       "      <td>301</td>\n",
       "      <td>Right</td>\n",
       "    </tr>\n",
       "    <tr>\n",
       "      <th>6</th>\n",
       "      <td>355</td>\n",
       "      <td>Left</td>\n",
       "    </tr>\n",
       "  </tbody>\n",
       "</table>\n",
       "</div>"
      ],
      "text/plain": [
       "    ic lr_label\n",
       "0    0     Left\n",
       "1   77     Left\n",
       "2  131     Left\n",
       "3  192    Right\n",
       "4  244     Left\n",
       "5  301    Right\n",
       "6  355     Left"
      ]
     },
     "execution_count": 10,
     "metadata": {},
     "output_type": "execute_result"
    }
   ],
   "source": [
    "res"
   ]
  },
  {
   "cell_type": "markdown",
   "metadata": {},
   "source": [
    "### Also test the pipeline optimizer\n",
    "_____"
   ]
  },
  {
   "cell_type": "code",
   "execution_count": null,
   "metadata": {},
   "outputs": [],
   "source": []
  }
 ],
 "metadata": {
  "kernelspec": {
   "display_name": ".venv",
   "language": "python",
   "name": "python3"
  },
  "language_info": {
   "codemirror_mode": {
    "name": "ipython",
    "version": 3
   },
   "file_extension": ".py",
   "mimetype": "text/x-python",
   "name": "python",
   "nbconvert_exporter": "python",
   "pygments_lexer": "ipython3",
   "version": "3.11.5"
  }
 },
 "nbformat": 4,
 "nbformat_minor": 2
}
